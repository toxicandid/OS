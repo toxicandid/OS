{
  "nbformat": 4,
  "nbformat_minor": 0,
  "metadata": {
    "colab": {
      "provenance": []
    },
    "kernelspec": {
      "name": "python3",
      "display_name": "Python 3"
    },
    "accelerator": "GPU"
  },
  "cells": [
    {
      "cell_type": "markdown",
      "metadata": {
        "id": "FYJ_sJgNRf2_"
      },
      "source": [
        "# Using Dense Neural Networks on IRIS classification problem"
      ]
    },
    {
      "cell_type": "markdown",
      "metadata": {
        "id": "qz06iHwbP8yi"
      },
      "source": [
        "In this notebook, we are using dense neural networks to classify iris flowers as setosa, virginica or versicolor.\n",
        ">\n",
        "\n",
        "**Prerequisites:**\n",
        "* **Basic knowledge of Deep Learning.**\n",
        "\n",
        "**Libraries:**\n",
        "* **Keras:** A library for creating neural networks in few lines.\n",
        "* **Matplotlib:** Matplotlib is a plotting library. You can use it to draw different types of graphs, like line, scattered, bar, etc.\n",
        "* **Sklearn:** Scikit-Learn is a machine learning library but we are only going to use it for importing the iris dataset.\n",
        ">\n"
      ]
    },
    {
      "cell_type": "markdown",
      "metadata": {
        "id": "FVQVGUROQlah"
      },
      "source": [
        "# Introduction"
      ]
    },
    {
      "cell_type": "markdown",
      "metadata": {
        "id": "GLfDVTTOBAXn"
      },
      "source": [
        "Even though there are lots of iris species, we are only going to classify 3 of them. We will use 4 features of these flowers to predict which class they belong. These features are sepal length (cm), sepal width (cm), petal length (cm) and petal width (cm). At the end of the notebook, I will show you that we can achive 96% accuracy with our predictions."
      ]
    },
    {
      "cell_type": "markdown",
      "metadata": {
        "id": "RDXPGoYoeZTm"
      },
      "source": [
        "\n",
        "\n",
        "Pictures of Virginica, Versicolor and Setosa\n",
        "\n",
        "![virginica](https://i.ibb.co/gtbgMRC/rsz-iris-virginica.jpg)\n",
        "![versicolor](https://i.ibb.co/KjND50m/rsz-iris-versicolor.jpg)\n",
        "![setosa](https://i.ibb.co/zxjbzVD/rsz-iris-baby-blue.jpg)"
      ]
    },
    {
      "cell_type": "markdown",
      "metadata": {
        "id": "0BYLng6hQqMP"
      },
      "source": [
        "# Preprocessing"
      ]
    },
    {
      "cell_type": "markdown",
      "metadata": {
        "id": "jWzfVxxxo3qC"
      },
      "source": [
        "We are loading our data using Sklearn's \"load_iris\" function and spliting it as test set and training set using the \"train_test_split\" function."
      ]
    },
    {
      "cell_type": "code",
      "metadata": {
        "id": "Flb-c-qUOhVU",
        "colab": {
          "base_uri": "https://localhost:8080/",
          "height": 34
        },
        "outputId": "340746e0-a319-4490-b583-50e76cf129fc"
      },
      "source": [
        "import keras\n",
        "from keras.models import Sequential\n",
        "from keras.layers import Dense\n",
        "\n",
        "from sklearn.datasets import load_iris\n",
        "from sklearn.model_selection import train_test_split\n",
        "\n",
        "import matplotlib.pyplot as plt"
      ],
      "execution_count": null,
      "outputs": [
        {
          "output_type": "stream",
          "text": [
            "Using TensorFlow backend.\n"
          ],
          "name": "stderr"
        }
      ]
    },
    {
      "cell_type": "code",
      "metadata": {
        "id": "qAok5BL4MWFe"
      },
      "source": [
        "data = load_iris()\n",
        "\n",
        "features = data[\"data\"]\n",
        "labels = data[\"target\"]"
      ],
      "execution_count": null,
      "outputs": []
    },
    {
      "cell_type": "code",
      "metadata": {
        "id": "FaRD966GOg6S"
      },
      "source": [
        "input_train, input_test, output_train, output_test = train_test_split(\n",
        "    features, labels, test_size=0.2)"
      ],
      "execution_count": null,
      "outputs": []
    },
    {
      "cell_type": "markdown",
      "metadata": {
        "id": "nv7Fa_-lpnXp"
      },
      "source": [
        "Now we normalize our features. This helps our model to converge mininmum loss faster in the training process."
      ]
    },
    {
      "cell_type": "code",
      "metadata": {
        "id": "XTEgclrherhr"
      },
      "source": [
        "input_train = input_train.astype('float32')\n",
        "input_test = input_test.astype('float32')\n",
        "\n",
        "mean = input_train.mean(axis=0)\n",
        "input_train -= mean\n",
        "\n",
        "std = input_train.std(axis=0)\n",
        "input_train /= std\n",
        "\n",
        "input_test -= mean\n",
        "input_test /= std"
      ],
      "execution_count": null,
      "outputs": []
    },
    {
      "cell_type": "markdown",
      "metadata": {
        "id": "LueAQygUp7gw"
      },
      "source": [
        "And finally we are changing our labels to one-hot vectors. This process is essential for classification problems like this. It is also necessary for our last activation function \"Softmax\" to work.\n",
        ">\n",
        "\n",
        "Examples of one-hot encoding:\n",
        ">\n",
        "\n",
        "0 (Virginica) becomes [1, 0, 0]\n",
        ">\n",
        "\n",
        "1 (Versicolor) becomes [0, 1, 0]\n",
        ">\n",
        "\n",
        "2 (Setosa) becomes [0, 0, 1]"
      ]
    },
    {
      "cell_type": "code",
      "metadata": {
        "id": "OSf0S-3TOpOr",
        "colab": {
          "base_uri": "https://localhost:8080/",
          "height": 50
        },
        "outputId": "04be29d2-75e7-4d55-d182-57fc38793ddf"
      },
      "source": [
        "print(\"Example of a training label before one-hot encoding:\", output_train[0])\n",
        "\n",
        "output_train = keras.utils.to_categorical(output_train, 3)\n",
        "output_test = keras.utils.to_categorical(output_test, 3)\n",
        "\n",
        "print(\"Same label after one-hot encoding:\", output_train[0])"
      ],
      "execution_count": null,
      "outputs": [
        {
          "output_type": "stream",
          "text": [
            "Example of a training label before one-hot encoding: 2\n",
            "Same label after one-hot encoding: [0. 0. 1.]\n"
          ],
          "name": "stdout"
        }
      ]
    },
    {
      "cell_type": "markdown",
      "metadata": {
        "id": "OCgk4DdYQsiO"
      },
      "source": [
        "# Model"
      ]
    },
    {
      "cell_type": "markdown",
      "metadata": {
        "id": "VsD-6edvlLqk"
      },
      "source": [
        "Now, let's create our model. We are initiating our sequential object with a list that contains the layers we want to use.\n",
        "\n",
        "* **Dense (Fully Connected):** They are the simple layers that have connections between every input and output neuron.\n",
        "\n",
        "We will use ReLUs (Rectified Linear Units) as activation functions for the hidden layers and Softmax function for the last layer. We should use Softmax in multi-class problems."
      ]
    },
    {
      "cell_type": "code",
      "metadata": {
        "id": "_4QUyIWfAf5U",
        "colab": {
          "base_uri": "https://localhost:8080/",
          "height": 252
        },
        "outputId": "1834bc8b-a8b9-427e-ae0e-11d9b221139c"
      },
      "source": [
        "model = Sequential([\n",
        "  Dense(128, activation=\"relu\", input_shape=(len(input_train[0]),)),\n",
        "  Dense(128, activation=\"relu\"),\n",
        "  Dense(len(output_train[0]), activation=\"softmax\")\n",
        "])\n",
        "\n",
        "model.summary()"
      ],
      "execution_count": null,
      "outputs": [
        {
          "output_type": "stream",
          "text": [
            "Model: \"sequential_2\"\n",
            "_________________________________________________________________\n",
            "Layer (type)                 Output Shape              Param #   \n",
            "=================================================================\n",
            "dense_4 (Dense)              (None, 128)               640       \n",
            "_________________________________________________________________\n",
            "dense_5 (Dense)              (None, 128)               16512     \n",
            "_________________________________________________________________\n",
            "dense_6 (Dense)              (None, 3)                 387       \n",
            "=================================================================\n",
            "Total params: 17,539\n",
            "Trainable params: 17,539\n",
            "Non-trainable params: 0\n",
            "_________________________________________________________________\n"
          ],
          "name": "stdout"
        }
      ]
    },
    {
      "cell_type": "markdown",
      "metadata": {
        "id": "j6WcjkA9mP9U"
      },
      "source": [
        "Now we have to decide which optimizer and loss function to use for our model. Since this is a classification problem and since we are using Softmax for the last activation function, Categorical Crossentropy should be our choice.\n",
        "\n",
        "And for our optimizer, we can pick Adam or Adadelta. They are usually my first picks because it's shown that they work really well with lots of different problems.\n",
        ">\n",
        "\n",
        "**Loss Function:** Categorical Crossentropy\n",
        "\n",
        "For more information about Keras loss functions [click here](https://keras.io/losses/).\n",
        ">\n",
        "\n",
        "**Optimizer:** Adam\n",
        "\n",
        "For more information about Keras optimizers [click here](https://keras.io/optimizers/)."
      ]
    },
    {
      "cell_type": "code",
      "metadata": {
        "id": "wMJMtfpiR7sI"
      },
      "source": [
        "model.compile(loss=keras.losses.categorical_crossentropy,\n",
        "              optimizer=keras.optimizers.Adam(lr=0.002),\n",
        "              metrics=['accuracy'])"
      ],
      "execution_count": null,
      "outputs": []
    },
    {
      "cell_type": "markdown",
      "metadata": {
        "id": "Vutes56ZQwI_"
      },
      "source": [
        "# Training"
      ]
    },
    {
      "cell_type": "markdown",
      "metadata": {
        "id": "kCHUWzXckb32"
      },
      "source": [
        "Let's train our model. Additional to loss, mean absolute error will be calculated and  printed out on every epoch."
      ]
    },
    {
      "cell_type": "code",
      "metadata": {
        "id": "SjLnaNrdeZ3b",
        "colab": {
          "base_uri": "https://localhost:8080/",
          "height": 706
        },
        "outputId": "3054c6d6-8954-483d-d3db-d3f8b56d6ccc"
      },
      "source": [
        "history = model.fit(input_train, output_train,\n",
        "                    epochs=20,\n",
        "                    validation_split=0.2)"
      ],
      "execution_count": null,
      "outputs": [
        {
          "output_type": "stream",
          "text": [
            "Train on 96 samples, validate on 24 samples\n",
            "Epoch 1/20\n",
            "96/96 [==============================] - 0s 3ms/step - loss: 1.2169 - acc: 0.3333 - val_loss: 0.9920 - val_acc: 0.6667\n",
            "Epoch 2/20\n",
            "96/96 [==============================] - 0s 244us/step - loss: 0.9207 - acc: 0.7188 - val_loss: 0.8436 - val_acc: 0.6250\n",
            "Epoch 3/20\n",
            "96/96 [==============================] - 0s 214us/step - loss: 0.7408 - acc: 0.8021 - val_loss: 0.6830 - val_acc: 0.8333\n",
            "Epoch 4/20\n",
            "96/96 [==============================] - 0s 203us/step - loss: 0.6305 - acc: 0.8229 - val_loss: 0.5753 - val_acc: 1.0000\n",
            "Epoch 5/20\n",
            "96/96 [==============================] - 0s 198us/step - loss: 0.5474 - acc: 0.9375 - val_loss: 0.5134 - val_acc: 0.9583\n",
            "Epoch 6/20\n",
            "96/96 [==============================] - 0s 190us/step - loss: 0.4742 - acc: 0.9271 - val_loss: 0.4736 - val_acc: 0.9583\n",
            "Epoch 7/20\n",
            "96/96 [==============================] - 0s 184us/step - loss: 0.4268 - acc: 0.9479 - val_loss: 0.4329 - val_acc: 1.0000\n",
            "Epoch 8/20\n",
            "96/96 [==============================] - 0s 203us/step - loss: 0.3910 - acc: 0.9375 - val_loss: 0.3882 - val_acc: 0.9583\n",
            "Epoch 9/20\n",
            "96/96 [==============================] - 0s 183us/step - loss: 0.3528 - acc: 0.9271 - val_loss: 0.3442 - val_acc: 1.0000\n",
            "Epoch 10/20\n",
            "96/96 [==============================] - 0s 207us/step - loss: 0.3209 - acc: 0.9583 - val_loss: 0.3067 - val_acc: 1.0000\n",
            "Epoch 11/20\n",
            "96/96 [==============================] - 0s 202us/step - loss: 0.2961 - acc: 0.9896 - val_loss: 0.2747 - val_acc: 1.0000\n",
            "Epoch 12/20\n",
            "96/96 [==============================] - 0s 208us/step - loss: 0.2675 - acc: 0.9688 - val_loss: 0.2472 - val_acc: 1.0000\n",
            "Epoch 13/20\n",
            "96/96 [==============================] - 0s 210us/step - loss: 0.2488 - acc: 0.9688 - val_loss: 0.2283 - val_acc: 1.0000\n",
            "Epoch 14/20\n",
            "96/96 [==============================] - 0s 343us/step - loss: 0.2334 - acc: 0.9479 - val_loss: 0.2025 - val_acc: 1.0000\n",
            "Epoch 15/20\n",
            "96/96 [==============================] - 0s 277us/step - loss: 0.2133 - acc: 0.9688 - val_loss: 0.1854 - val_acc: 1.0000\n",
            "Epoch 16/20\n",
            "96/96 [==============================] - 0s 227us/step - loss: 0.1959 - acc: 0.9896 - val_loss: 0.1642 - val_acc: 1.0000\n",
            "Epoch 17/20\n",
            "96/96 [==============================] - 0s 216us/step - loss: 0.1872 - acc: 0.9688 - val_loss: 0.1482 - val_acc: 1.0000\n",
            "Epoch 18/20\n",
            "96/96 [==============================] - 0s 220us/step - loss: 0.1708 - acc: 0.9688 - val_loss: 0.1331 - val_acc: 1.0000\n",
            "Epoch 19/20\n",
            "96/96 [==============================] - 0s 205us/step - loss: 0.1715 - acc: 0.9583 - val_loss: 0.1207 - val_acc: 1.0000\n",
            "Epoch 20/20\n",
            "96/96 [==============================] - 0s 233us/step - loss: 0.1538 - acc: 0.9688 - val_loss: 0.1106 - val_acc: 1.0000\n"
          ],
          "name": "stdout"
        }
      ]
    },
    {
      "cell_type": "markdown",
      "metadata": {
        "id": "XqPYJ88ykU7d"
      },
      "source": [
        "We can see how training went using our history object."
      ]
    },
    {
      "cell_type": "code",
      "metadata": {
        "id": "OLsdkQePSe0o",
        "colab": {
          "base_uri": "https://localhost:8080/",
          "height": 389
        },
        "outputId": "feab0876-2bea-4f72-a1ba-0514aba7e997"
      },
      "source": [
        "loss = history.history['loss']\n",
        "acc = history.history['acc']\n",
        "val_loss = history.history['val_loss']\n",
        "val_acc = history.history['val_acc']\n",
        "epochs = range(len(loss))\n",
        "\n",
        "f, axarr = plt.subplots(1, 2, figsize=(12, 6))\n",
        "p0 = axarr[0]\n",
        "p1 = axarr[1]\n",
        "\n",
        "p0.set_title(\"Training and Validation Loss\")\n",
        "p1.set_title(\"Training and Validation Accuracy\")\n",
        "\n",
        "p0l0 = p0.plot(epochs, loss, \"-b\", label=\"Training Loss\")\n",
        "p0l1 = p0.plot( epochs, val_loss, \"-r\", label=\"Validation Loss\")\n",
        "\n",
        "p1l0 = p1.plot(epochs, acc, \"-b\", label=\"Training Accuracy\")\n",
        "p1l1 = p1.plot(epochs, val_acc, \"-r\", label=\"Validation Accuracy\")\n",
        "\n",
        "legend0 = p0.legend()\n",
        "legend1 = p1.legend()"
      ],
      "execution_count": null,
      "outputs": [
        {
          "output_type": "display_data",
          "data": {
            "image/png": "[encoded data removed]",
            "text/plain": [
              "<Figure size 864x432 with 2 Axes>"
            ]
          },
          "metadata": {
            "tags": []
          }
        }
      ]
    },
    {
      "cell_type": "markdown",
      "metadata": {
        "id": "DcY1jcJpQyQA"
      },
      "source": [
        "# Evaluation"
      ]
    },
    {
      "cell_type": "markdown",
      "metadata": {
        "id": "j8YniKuWko1l"
      },
      "source": [
        "Finally the training process is done. Now we can evaluate our model's performance on the test set."
      ]
    },
    {
      "cell_type": "code",
      "metadata": {
        "id": "W6i4ZGrTUaZ1",
        "colab": {
          "base_uri": "https://localhost:8080/",
          "height": 67
        },
        "outputId": "75b10b70-1ebb-4082-d93d-1e1ce3477a02"
      },
      "source": [
        "score = model.evaluate(input_test, output_test)\n",
        "\n",
        "print('Test Loss:', score[0])\n",
        "print('Test Accuracy:', score[1])"
      ],
      "execution_count": null,
      "outputs": [
        {
          "output_type": "stream",
          "text": [
            "\r30/30 [==============================] - 0s 126us/step\n",
            "Test Loss: 0.12160614132881165\n",
            "Test Accuracy: 0.9666666388511658\n"
          ],
          "name": "stdout"
        }
      ]
    },
    {
      "cell_type": "markdown",
      "metadata": {
        "id": "RrIeHgz_klN2"
      },
      "source": [
        "As you can see, our model's predictions are 96% accurate on the test set.\n",
        "\n",
        "Let's predict couple of examples.\n",
        ">\n",
        "\n",
        "*Side note: You can't predict single examples with \"model.predict()\". But you can reshape the data to have an extra batch size dimention to fix it.*"
      ]
    },
    {
      "cell_type": "code",
      "metadata": {
        "id": "EeR4KUZBghLC",
        "colab": {
          "base_uri": "https://localhost:8080/",
          "height": 101
        },
        "outputId": "e3a49673-db25-4725-823c-73f26f5077f2"
      },
      "source": [
        "predictions = model.predict(input_test[0:5])\n",
        "\n",
        "true_labels = output_test[0:5]\n",
        "\n",
        "for i in range(len(predictions)):\n",
        "  print(\"Prediction:\", data[\"target_names\"][predictions[i].argmax()], \",\",\n",
        "        \"True Label:\", data[\"target_names\"][true_labels[i].argmax()])"
      ],
      "execution_count": null,
      "outputs": [
        {
          "output_type": "stream",
          "text": [
            "Prediction: virginica , True Label: virginica\n",
            "Prediction: setosa , True Label: setosa\n",
            "Prediction: setosa , True Label: setosa\n",
            "Prediction: virginica , True Label: virginica\n",
            "Prediction: versicolor , True Label: versicolor\n"
          ],
          "name": "stdout"
        }
      ]
    }
  ]
}